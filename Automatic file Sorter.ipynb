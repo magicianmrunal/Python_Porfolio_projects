{
 "cells": [
  {
   "cell_type": "code",
   "execution_count": 49,
   "id": "f9c5b61e-b92b-425c-a5d3-52f06097796f",
   "metadata": {},
   "outputs": [],
   "source": [
    "import os,shutil"
   ]
  },
  {
   "cell_type": "code",
   "execution_count": 50,
   "id": "0ec02219-b723-4eab-9e43-2b16914f04ab",
   "metadata": {},
   "outputs": [],
   "source": [
    "path = r\"E:/test/\""
   ]
  },
  {
   "cell_type": "code",
   "execution_count": 51,
   "id": "957c656f-3876-4e75-a4cd-50fa9e55777f",
   "metadata": {},
   "outputs": [],
   "source": [
    "file_name = os.listdir(path)"
   ]
  },
  {
   "cell_type": "code",
   "execution_count": 52,
   "id": "209d03b5-2ee0-4471-a165-0091d4b68a19",
   "metadata": {},
   "outputs": [
    {
     "name": "stdout",
     "output_type": "stream",
     "text": [
      "PNG done\n",
      "PNG done\n",
      "Excel done\n",
      "Excel done\n",
      "Pdf done\n",
      "Pdf done\n"
     ]
    }
   ],
   "source": [
    "folder_names = (\"Excel\",\"Pdf\",\"Images\")\n",
    "\n",
    "for i in range(0,3):\n",
    "    if not os.path.exists(path + folder_names[i]):\n",
    "        print(path + folder_names[i])\n",
    "        os.makedirs(path + folder_names[i])\n",
    "\n",
    "for j in file_name:\n",
    "    if '.xlsx' in j and not os.path.exists(path + \"Excel/\" + j):\n",
    "        shutil.move(path + j, path + \"Excel/\" + j)\n",
    "        print(\"Excel done\")\n",
    "    elif '.pdf' in j and not os.path.exists(path + \"Pdf/\" + j):\n",
    "        shutil.move(path + j, path + \"Pdf/\" + j)\n",
    "        print(\"Pdf done\")\n",
    "    elif '.png' in j and not os.path.exists(path + \"Images/\" + j):\n",
    "        shutil.move(path + j, path + \"Images/\" + j)\n",
    "        print(\"PNG done\")"
   ]
  },
  {
   "cell_type": "code",
   "execution_count": null,
   "id": "9ba5024c-72ee-4ee8-83c6-8af39838b146",
   "metadata": {},
   "outputs": [],
   "source": []
  },
  {
   "cell_type": "code",
   "execution_count": null,
   "id": "b1e066e6-16bd-40e4-a1fa-b59d7eeb5040",
   "metadata": {},
   "outputs": [],
   "source": []
  },
  {
   "cell_type": "code",
   "execution_count": null,
   "id": "d9f942d2-16ee-48e6-be2d-9bbb4ac48a2c",
   "metadata": {},
   "outputs": [],
   "source": []
  },
  {
   "cell_type": "code",
   "execution_count": null,
   "id": "207ff156-54bb-42b3-b9b7-b90a2117615d",
   "metadata": {},
   "outputs": [],
   "source": []
  },
  {
   "cell_type": "code",
   "execution_count": null,
   "id": "7cfa5c63-37b3-4116-83e5-1989cfe65843",
   "metadata": {},
   "outputs": [],
   "source": []
  },
  {
   "cell_type": "code",
   "execution_count": null,
   "id": "7d0f4df3-03f4-409e-9d58-40a2f6edbfd5",
   "metadata": {},
   "outputs": [],
   "source": []
  },
  {
   "cell_type": "code",
   "execution_count": null,
   "id": "57b65cf5-2369-4310-9e80-c7991005de0e",
   "metadata": {},
   "outputs": [],
   "source": []
  },
  {
   "cell_type": "code",
   "execution_count": null,
   "id": "1e13e7ef-5cb9-4d8e-b372-61447f53bf5d",
   "metadata": {},
   "outputs": [],
   "source": []
  },
  {
   "cell_type": "code",
   "execution_count": null,
   "id": "934d2729-c678-41f4-94b7-c227ebc4fbe3",
   "metadata": {},
   "outputs": [],
   "source": []
  },
  {
   "cell_type": "code",
   "execution_count": null,
   "id": "1666d752-100c-46e6-b80f-ec93fa4d8fe2",
   "metadata": {},
   "outputs": [],
   "source": []
  },
  {
   "cell_type": "code",
   "execution_count": null,
   "id": "a832ab6f-181e-4046-93ba-46bc4d16d5d4",
   "metadata": {},
   "outputs": [],
   "source": []
  },
  {
   "cell_type": "code",
   "execution_count": null,
   "id": "9072ce1f-c541-418c-ac87-76e72a136432",
   "metadata": {},
   "outputs": [],
   "source": []
  },
  {
   "cell_type": "code",
   "execution_count": null,
   "id": "b48fb072-f742-4cb1-969c-66a298b97896",
   "metadata": {},
   "outputs": [],
   "source": []
  },
  {
   "cell_type": "code",
   "execution_count": null,
   "id": "64eb8a30-6994-4dd1-920e-7eb8a06ef8b6",
   "metadata": {},
   "outputs": [],
   "source": []
  },
  {
   "cell_type": "code",
   "execution_count": null,
   "id": "28916633-a6f4-44d7-8929-853993ec9592",
   "metadata": {},
   "outputs": [],
   "source": []
  },
  {
   "cell_type": "code",
   "execution_count": null,
   "id": "9b3aedb9-fe56-41b2-8b6f-fbd59b968490",
   "metadata": {},
   "outputs": [],
   "source": []
  },
  {
   "cell_type": "code",
   "execution_count": null,
   "id": "ea975d48-0a5f-4839-9fd0-8021a26a6111",
   "metadata": {},
   "outputs": [],
   "source": []
  },
  {
   "cell_type": "code",
   "execution_count": null,
   "id": "7bee1a56-a0ae-4cbe-bf83-3608a2bf0f32",
   "metadata": {},
   "outputs": [],
   "source": []
  },
  {
   "cell_type": "code",
   "execution_count": null,
   "id": "bcf054fb-1e1f-4883-9dc2-8378bb0ecaf2",
   "metadata": {},
   "outputs": [],
   "source": []
  }
 ],
 "metadata": {
  "kernelspec": {
   "display_name": "Python 3 (ipykernel)",
   "language": "python",
   "name": "python3"
  },
  "language_info": {
   "codemirror_mode": {
    "name": "ipython",
    "version": 3
   },
   "file_extension": ".py",
   "mimetype": "text/x-python",
   "name": "python",
   "nbconvert_exporter": "python",
   "pygments_lexer": "ipython3",
   "version": "3.12.7"
  }
 },
 "nbformat": 4,
 "nbformat_minor": 5
}
