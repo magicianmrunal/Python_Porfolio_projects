{
 "cells": [
  {
   "cell_type": "code",
   "execution_count": 4,
   "id": "89c4756e-e877-4fe1-b901-a957d34e90ab",
   "metadata": {},
   "outputs": [],
   "source": [
    "# We have used beautiful soup for scaping the data from web\n",
    "# In this project we will be scraping data from amazon.in and retrieve price of a product and then save this data into a CSV file\n"
    "#Importing the libraries\n",
    "from bs4 import BeautifulSoup\n",
    "import requests\n",
    "import time\n",
    "import datetime"
   ]
  },
  {
   "cell_type": "code",
   "execution_count": 5,
   "id": "f1551ddf-6d01-49f0-8379-c1ef294d3ce7",
   "metadata": {
    "scrolled": true
   },
   "outputs": [],
   "source": [
    "#Connecting to the website and scrapping the data\n",
    "\n",
    "url = 'https://www.amazon.com/Funny-Data-Systems-Business-Analyst/dp/B07FNW9FGJ/ref=sr_1_3?dchild=1&keywords=data%2Banalyst%2Btshirt&qid=1626655184&sr=8-3&customId=B0752XJYNL&th=1'\n",
    "\n",
    "headers = {\"User-Agent\": \"Mozilla/5.0 (Windows NT 10.0; Win64; x64) AppleWebKit/537.36 (KHTML, like Gecko) Chrome/131.0.0.0 Safari/537.36\", \"Accept-Encoding\":\"gzip, deflate\", \"Accept\":\"text/html,application/xhtml+xml,application/xml;q=0.9,*/*;q=0.8\", \"DNT\":\"1\",\"Connection\":\"close\", \"Upgrade-Insecure-Requests\":\"1\"}\n",
    "page = requests.get(url)\n",
    "\n",
    "soup = BeautifulSoup(page.text,'html')\n",
    "soup\n",
    "s1= BeautifulSoup(soup.prettify(),'html')"
   ]
  },
  {
   "cell_type": "code",
   "execution_count": 6,
   "id": "ce3e2c69-5e14-45b2-b3da-b546eb2c1118",
   "metadata": {},
   "outputs": [
    {
     "name": "stdout",
     "output_type": "stream",
     "text": [
      "\n",
      "                  Got Data Funny Business Data Analyst T-Shirt\n",
      "                 \n",
      "\n",
      "                               $22.99\n",
      "                              \n"
     ]
    }
   ],
   "source": [
    "#Filtering the Product Title and Price\n",
    "\n",
    "title = s1.find(id='productTitle').get_text()\n",
    "price = s1.find_all('span',class_=\"a-offscreen\")[1].get_text()\n",
    "print(title)\n",
    "print(price)"
   ]
  },
  {
   "cell_type": "code",
   "execution_count": 6,
   "id": "cfe70ee8-24ea-4a72-9894-9e8bf1269a2d",
   "metadata": {},
   "outputs": [
    {
     "name": "stdout",
     "output_type": "stream",
     "text": [
      "22.99\n",
      "Got Data Funny Business Data Analyst T-Shirt\n"
     ]
    }
   ],
   "source": [
    "#Cleaning the data\n",
    "\n",
    "price = price.strip()[1:]\n",
    "title = title.strip()\n",
    "print(price)\n",
    "print(title)"
   ]
  },
  {
   "cell_type": "code",
   "execution_count": 7,
   "id": "00dfea84-0d1b-4de0-9463-a68388beaf65",
   "metadata": {},
   "outputs": [],
   "source": [
    "# Creating a Timestamp for output to track when data was collected\n",
    "\n",
    "import datetime\n",
    "today = datetime.date.today()\n",
    "time_now = datetime.datetime.now().time()\n"
   ]
  },
  {
   "cell_type": "code",
   "execution_count": 8,
   "id": "9954c3c0-6f50-491b-9edf-938cdd034ed8",
   "metadata": {},
   "outputs": [
    {
     "data": {
      "text/plain": [
       "list"
      ]
     },
     "execution_count": 8,
     "metadata": {},
     "output_type": "execute_result"
    }
   ],
   "source": [
    "#Creating the headers\n",
    "\n",
    "header = ['Title', 'Price','Date','Time']\n",
    "data = [title,price,today,time_now]\n",
    "type(data)"
   ]
  },
  {
   "cell_type": "code",
   "execution_count": 9,
   "id": "87e2f494-7e20-4353-b787-c21915e1a405",
   "metadata": {},
   "outputs": [],
   "source": [
    "#Creating and writing the headers and selected scrapped data into csv file\n",
    "\n",
    "import csv\n",
    "with open('Amazonwebscraperdataset.csv','w',newline='',encoding ='UTF8') as f:\n",
    "    writer = csv.writer(f)\n",
    "    writer.writerow(header)\n",
    "    writer.writerow(data)"
   ]
  },
  {
   "cell_type": "code",
   "execution_count": 10,
   "id": "2164f2ef-12cb-4eb6-8acb-f820c3d6ae9a",
   "metadata": {},
   "outputs": [
    {
     "name": "stdout",
     "output_type": "stream",
     "text": [
      "                                          Title  Price        Date  \\\n",
      "0  Got Data Funny Business Data Analyst T-Shirt  22.99  2024-12-23   \n",
      "\n",
      "              Time  \n",
      "0  22:50:51.103336  \n"
     ]
    }
   ],
   "source": [
    "#reading the data\n",
    "import pandas as pd\n",
    "df= pd.read_csv(r\"C:\\Users\\Hp\\Amazonwebscraperdataset.csv\")\n",
    "\n",
    "print(df)"
   ]
  },
  {
   "cell_type": "code",
   "execution_count": 11,
   "id": "9dc6d8b9-f7b0-48fa-acd0-5efef036bb3f",
   "metadata": {},
   "outputs": [],
   "source": [
    "#Appending the data\n",
    "\n",
    "with open('Amazonwebscraperdataset.csv','a+',newline='',encoding='UTF8') as f:\n",
    "    writer = csv.writer(f)\n",
    "    writer.writerow(data)"
   ]
  },
  {
   "cell_type": "code",
   "execution_count": 12,
   "id": "3698b085-c75c-4fc1-9c75-05a9da4fb86b",
   "metadata": {},
   "outputs": [],
   "source": [
    "#Combining all the above code into a single function\n",
    "\n",
    "\n",
    "def check_price():\n",
    "    url = 'https://www.amazon.com/Funny-Data-Systems-Business-Analyst/dp/B07FNW9FGJ/ref=sr_1_3?dchild=1&keywords=data%2Banalyst%2Btshirt&qid=1626655184&sr=8-3&customId=B0752XJYNL&th=1'\n",
    "    headers = {\"User-Agent\": \"Mozilla/5.0 (Windows NT 10.0; Win64; x64) AppleWebKit/537.36 (KHTML, like Gecko) Chrome/131.0.0.0 Safari/537.36\", \"Accept-Encoding\":\"gzip, deflate\", \"Accept\":\"text/html,application/xhtml+xml,application/xml;q=0.9,*/*;q=0.8\", \"DNT\":\"1\",\"Connection\":\"close\", \"Upgrade-Insecure-Requests\":\"1\"}\n",
    "\n",
    "    page = requests.get(url)\n",
    "    soup = BeautifulSoup(page.text,'html')\n",
    "    soup1 = s1= BeautifulSoup(soup.prettify(),'html')\n",
    "\n",
    "    title = s1.find(id='productTitle').get_text()\n",
    "    price = s1.find_all('span',class_=\"a-offscreen\")[1].get_text()\n",
    "\n",
    "    title = title.strip()\n",
    "    price = price.strip()[1:]\n",
    "\n",
    "    import datetime\n",
    "    today = datetime.date.today()\n",
    "    time_now = datetime.datetime.now().time()\n",
    "\n",
    "    \n",
    "    import csv\n",
    "    header = ['Title', 'Price','Today','Time']\n",
    "    data = [title,price,today,time_now]\n",
    "\n",
    "    with open('Amazonwebscraperdataset.csv','a+',newline='',encoding='UTF8') as f:\n",
    "        writer = csv.writer(f)\n",
    "        writer.writerow(data)\n",
    "    \n"
   ]
  },
  {
   "cell_type": "code",
   "execution_count": null,
   "id": "50c63b5b-5ee4-4403-b222-4106f7fc9431",
   "metadata": {},
   "outputs": [],
   "source": [
    "# This will run check_price after one day interval and input data into your CSV\n",
    "\n",
    "single_day = 60*60*24\n",
    "while(True):\n",
    "    check_price()\n",
    "    time.sleep(single_day)"
   ]
  },
  {
   "cell_type": "code",
   "execution_count": 1,
   "id": "bd4c1e60-3aca-4513-9bf4-143e96dd3cbe",
   "metadata": {},
   "outputs": [
    {
     "name": "stdout",
     "output_type": "stream",
     "text": [
      "                                          Title  Price        Date  \\\n",
      "0  Got Data Funny Business Data Analyst T-Shirt  22.99  2024-12-23   \n",
      "1  Got Data Funny Business Data Analyst T-Shirt  22.99  2024-12-23   \n",
      "2  Got Data Funny Business Data Analyst T-Shirt  22.99  2024-12-23   \n",
      "\n",
      "              Time  \n",
      "0  22:50:51.103336  \n",
      "1  22:50:51.103336  \n",
      "2  22:51:28.966506  \n"
     ]
    }
   ],
   "source": [
    "import pandas as pd\n",
    "\n",
    "df= pd.read_csv(r\"C:\\Users\\Hp\\Amazonwebscraperdataset.csv\")\n",
    "\n",
    "print(df)"
   ]
  },
  {
   "cell_type": "code",
   "execution_count": null,
   "id": "caa2c05f-0b96-4e63-ae87-7cee8cd08b0b",
   "metadata": {},
   "outputs": [],
   "source": []
  },
  {
   "cell_type": "code",
   "execution_count": null,
   "id": "4445b9aa-7bd9-4e67-a0c8-b97bfda7664e",
   "metadata": {},
   "outputs": [],
   "source": []
  },
  {
   "cell_type": "code",
   "execution_count": null,
   "id": "af739ddf-a36b-45b1-9370-73c6e467aef1",
   "metadata": {},
   "outputs": [],
   "source": []
  },
  {
   "cell_type": "code",
   "execution_count": null,
   "id": "a11b9f37-3f20-4dba-ab5e-eb22e074ff9e",
   "metadata": {},
   "outputs": [],
   "source": []
  },
  {
   "cell_type": "code",
   "execution_count": null,
   "id": "323fea8f-7826-44c5-b850-45619bfc11e8",
   "metadata": {},
   "outputs": [],
   "source": []
  },
  {
   "cell_type": "code",
   "execution_count": null,
   "id": "3cda8e2f-5a6c-4928-b4f4-ae425876e978",
   "metadata": {},
   "outputs": [],
   "source": []
  },
  {
   "cell_type": "code",
   "execution_count": null,
   "id": "ec0d0ba4-5641-4b42-bf03-6cd00bac87f6",
   "metadata": {},
   "outputs": [],
   "source": []
  },
  {
   "cell_type": "code",
   "execution_count": null,
   "id": "8f1dd8f0-62ec-4467-9bd8-693ecb21fff5",
   "metadata": {},
   "outputs": [],
   "source": []
  },
  {
   "cell_type": "code",
   "execution_count": null,
   "id": "bbed2a85-8832-4bc1-99bd-59e24f711914",
   "metadata": {},
   "outputs": [],
   "source": []
  },
  {
   "cell_type": "code",
   "execution_count": null,
   "id": "a05847bf-c95d-4313-bc3e-ee39a8747b11",
   "metadata": {},
   "outputs": [],
   "source": []
  },
  {
   "cell_type": "code",
   "execution_count": null,
   "id": "5661541f-10a2-4955-beb3-530dea05f9f0",
   "metadata": {},
   "outputs": [],
   "source": []
  },
  {
   "cell_type": "code",
   "execution_count": null,
   "id": "31e62c63-5587-4073-b674-a25a867bd5cc",
   "metadata": {},
   "outputs": [],
   "source": []
  }
 ],
 "metadata": {
  "kernelspec": {
   "display_name": "Python 3 (ipykernel)",
   "language": "python",
   "name": "python3"
  },
  "language_info": {
   "codemirror_mode": {
    "name": "ipython",
    "version": 3
   },
   "file_extension": ".py",
   "mimetype": "text/x-python",
   "name": "python",
   "nbconvert_exporter": "python",
   "pygments_lexer": "ipython3",
   "version": "3.12.7"
  }
 },
 "nbformat": 4,
 "nbformat_minor": 5
}
