{
 "cells": [
  {
   "cell_type": "code",
   "execution_count": 1,
   "id": "a8aa0ff0-a089-4b3b-b8f1-ea900a3b6e72",
   "metadata": {
    "scrolled": true
   },
   "outputs": [],
   "source": [
    "from requests import Request, Session\n",
    "from requests.exceptions import ConnectionError, Timeout, TooManyRedirects\n",
    "import json\n",
    "\n",
    "url = 'https://pro-api.coinmarketcap.com/v1/cryptocurrency/listings/latest'\n",
    "parameters = {\n",
    "  'start':'1',\n",
    "  'limit':'15',\n",
    "  'convert':'USD'\n",
    "}\n",
    "headers = {\n",
    "  'Accepts': 'application/json',\n",
    "  'X-CMC_PRO_API_KEY': '51e6b552-6da1-45d8-8929-fa046ab1fa6f',\n",
    "}\n",
    "\n",
    "session = Session()\n",
    "session.headers.update(headers)\n",
    "\n",
    "try:\n",
    "    response = session.get(url, params=parameters)\n",
    "    data = json.loads(response.text)\n",
    "except (ConnectionError, Timeout, TooManyRedirects) as e:\n",
    "    print(e)"
   ]
  },
  {
   "cell_type": "code",
   "execution_count": 2,
   "id": "c81ff115-b527-4a0b-8af5-f8fe72a437f1",
   "metadata": {},
   "outputs": [
    {
     "data": {
      "text/plain": [
       "dict"
      ]
     },
     "execution_count": 2,
     "metadata": {},
     "output_type": "execute_result"
    }
   ],
   "source": [
    "type(data)"
   ]
  },
  {
   "cell_type": "code",
   "execution_count": 30,
   "id": "dca0053a-5fc2-4d63-8ff5-1bf60bbb7235",
   "metadata": {},
   "outputs": [],
   "source": [
    "#jupyter console -> jupyter notebook --NotebookApp.iopub_data_rate_limit=1e10"
   ]
  },
  {
   "cell_type": "code",
   "execution_count": 4,
   "id": "4b5691fd-6480-4d51-b851-cabf25e1dcfe",
   "metadata": {},
   "outputs": [],
   "source": [
    "import pandas as pd"
   ]
  },
  {
   "cell_type": "code",
   "execution_count": 5,
   "id": "f3770c47-dc3b-44a9-9cf2-2da3a2ff28f6",
   "metadata": {},
   "outputs": [
    {
     "data": {
      "text/html": [
       "<div>\n",
       "<style scoped>\n",
       "    .dataframe tbody tr th:only-of-type {\n",
       "        vertical-align: middle;\n",
       "    }\n",
       "\n",
       "    .dataframe tbody tr th {\n",
       "        vertical-align: top;\n",
       "    }\n",
       "\n",
       "    .dataframe thead th {\n",
       "        text-align: right;\n",
       "    }\n",
       "</style>\n",
       "<table border=\"1\" class=\"dataframe\">\n",
       "  <thead>\n",
       "    <tr style=\"text-align: right;\">\n",
       "      <th></th>\n",
       "      <th>id</th>\n",
       "      <th>name</th>\n",
       "      <th>symbol</th>\n",
       "      <th>slug</th>\n",
       "      <th>num_market_pairs</th>\n",
       "      <th>date_added</th>\n",
       "      <th>tags</th>\n",
       "      <th>max_supply</th>\n",
       "      <th>circulating_supply</th>\n",
       "      <th>total_supply</th>\n",
       "      <th>...</th>\n",
       "      <th>quote.USD.market_cap_dominance</th>\n",
       "      <th>quote.USD.fully_diluted_market_cap</th>\n",
       "      <th>quote.USD.tvl</th>\n",
       "      <th>quote.USD.last_updated</th>\n",
       "      <th>platform.id</th>\n",
       "      <th>platform.name</th>\n",
       "      <th>platform.symbol</th>\n",
       "      <th>platform.slug</th>\n",
       "      <th>platform.token_address</th>\n",
       "      <th>timestamp</th>\n",
       "    </tr>\n",
       "  </thead>\n",
       "  <tbody>\n",
       "    <tr>\n",
       "      <th>0</th>\n",
       "      <td>1</td>\n",
       "      <td>Bitcoin</td>\n",
       "      <td>BTC</td>\n",
       "      <td>bitcoin</td>\n",
       "      <td>11849</td>\n",
       "      <td>2010-07-13T00:00:00.000Z</td>\n",
       "      <td>[mineable, pow, sha-256, store-of-value, state...</td>\n",
       "      <td>21000000.0</td>\n",
       "      <td>19800150.0</td>\n",
       "      <td>19800150.0</td>\n",
       "      <td>...</td>\n",
       "      <td>56.6087</td>\n",
       "      <td>1.966423e+12</td>\n",
       "      <td>None</td>\n",
       "      <td>2024-12-23T17:34:00.000Z</td>\n",
       "      <td>NaN</td>\n",
       "      <td>NaN</td>\n",
       "      <td>NaN</td>\n",
       "      <td>NaN</td>\n",
       "      <td>NaN</td>\n",
       "      <td>2024-12-23 23:10:24.491746</td>\n",
       "    </tr>\n",
       "  </tbody>\n",
       "</table>\n",
       "<p>1 rows × 37 columns</p>\n",
       "</div>"
      ],
      "text/plain": [
       "   id     name symbol     slug  num_market_pairs                date_added  \\\n",
       "0   1  Bitcoin    BTC  bitcoin             11849  2010-07-13T00:00:00.000Z   \n",
       "\n",
       "                                                tags  max_supply  \\\n",
       "0  [mineable, pow, sha-256, store-of-value, state...  21000000.0   \n",
       "\n",
       "   circulating_supply  total_supply  ...  quote.USD.market_cap_dominance  \\\n",
       "0          19800150.0    19800150.0  ...                         56.6087   \n",
       "\n",
       "   quote.USD.fully_diluted_market_cap  quote.USD.tvl  \\\n",
       "0                        1.966423e+12           None   \n",
       "\n",
       "     quote.USD.last_updated  platform.id platform.name platform.symbol  \\\n",
       "0  2024-12-23T17:34:00.000Z          NaN           NaN             NaN   \n",
       "\n",
       "   platform.slug  platform.token_address                  timestamp  \n",
       "0            NaN                     NaN 2024-12-23 23:10:24.491746  \n",
       "\n",
       "[1 rows x 37 columns]"
      ]
     },
     "execution_count": 5,
     "metadata": {},
     "output_type": "execute_result"
    }
   ],
   "source": [
    "df = pd.json_normalize(data['data'])\n",
    "df['timestamp'] = pd.to_datetime('now')\n",
    "df.head(1)"
   ]
  },
  {
   "cell_type": "code",
   "execution_count": 6,
   "id": "32b9a5f5-9a34-43be-90ee-ccfdb6ddd38f",
   "metadata": {},
   "outputs": [],
   "source": [
    "pd.set_option('display.float_format', '{:.2f}'.format)\n",
    "pd.set_option('display.max_rows',None)\n",
    "pd.set_option('display.max_columns',None)\n"
   ]
  },
  {
   "cell_type": "code",
   "execution_count": 93,
   "id": "6b93e769-1c23-43fe-927e-28c1053a80e2",
   "metadata": {},
   "outputs": [],
   "source": [
    "def api_runner():\n",
    "    global df\n",
    "    url = 'https://pro-api.coinmarketcap.com/v1/cryptocurrency/listings/latest'\n",
    "    parameters = {\n",
    "      'start':'1',\n",
    "      'limit':'15',\n",
    "      'convert':'USD'\n",
    "    }\n",
    "    headers = {\n",
    "      'Accepts': 'application/json',\n",
    "      'X-CMC_PRO_API_KEY': '51e6b552-6da1-45d8-8929-fa046ab1fa6f',\n",
    "    }\n",
    "    \n",
    "    session = Session()\n",
    "    session.headers.update(headers)\n",
    "    \n",
    "    try:\n",
    "      response = session.get(url, params=parameters)\n",
    "      data = json.loads(response.text)\n",
    "      #print(data)\n",
    "    except (ConnectionError, Timeout, TooManyRedirects) as e:\n",
    "      print(e)\n",
    "\n",
    "    #df2 = pd.json_normalize(data['data'])\n",
    "    #df2['timestamp'] = pd.to_datetime('now')\n",
    "    #df = pd.concat([df,df2])\n",
    "\n",
    "    \n",
    "    df = pd.json_normalize(data['data'])\n",
    "    df['timestamp'] = pd.to_datetime('now')\n",
    "    df\n",
    "\n",
    "    if not os.path.isfile(r'C:\\Users\\Hp\\Documents\\Python\\API_datapull.csv'):\n",
    "        df.to_csv(r'C:\\Users\\Hp\\Documents\\Python\\API_datapull.csv', header = 'column_names')\n",
    "    else:\n",
    "        df.to_csv(r'C:\\Users\\Hp\\Documents\\Python\\API_datapull.csv', mode = 'a', header = False)\n",
    "\n",
    "\n",
    "    "
   ]
  },
  {
   "cell_type": "code",
   "execution_count": 95,
   "id": "bdb1d40a-63d4-44a1-9c7b-0656c2a9051c",
   "metadata": {},
   "outputs": [
    {
     "name": "stdout",
     "output_type": "stream",
     "text": [
      "Api Runner Executed Succesfully\n",
      "Api Runner Executed Succesfully\n",
      "Api Runner Executed Succesfully\n",
      "Api Runner Executed Succesfully\n"
     ]
    },
    {
     "ename": "KeyboardInterrupt",
     "evalue": "",
     "output_type": "error",
     "traceback": [
      "\u001b[1;31m---------------------------------------------------------------------------\u001b[0m",
      "\u001b[1;31mKeyboardInterrupt\u001b[0m                         Traceback (most recent call last)",
      "Cell \u001b[1;32mIn[95], line 8\u001b[0m\n\u001b[0;32m      6\u001b[0m     api_runner()\n\u001b[0;32m      7\u001b[0m     \u001b[38;5;28mprint\u001b[39m(\u001b[38;5;124m'\u001b[39m\u001b[38;5;124mApi Runner Executed Succesfully\u001b[39m\u001b[38;5;124m'\u001b[39m)\n\u001b[1;32m----> 8\u001b[0m     sleep(\u001b[38;5;241m60\u001b[39m)\n\u001b[0;32m      9\u001b[0m exit()\n",
      "\u001b[1;31mKeyboardInterrupt\u001b[0m: "
     ]
    }
   ],
   "source": [
    "import os\n",
    "from time import time\n",
    "from time import sleep\n",
    "\n",
    "for i in range(333):\n",
    "    api_runner()\n",
    "    print('Api Runner Executed Succesfully')\n",
    "    sleep(60)\n",
    "exit()\n"
   ]
  },
  {
   "cell_type": "code",
   "execution_count": 7,
   "id": "d085af21-d7f8-41d8-aa14-7fa8b573310c",
   "metadata": {
    "scrolled": true
   },
   "outputs": [],
   "source": [
    "df45 = pd.read_csv(r'C:\\Users\\Hp\\Documents\\Python\\API_datapull.csv')"
   ]
  },
  {
   "cell_type": "code",
   "execution_count": null,
   "id": "12439f1e-d84f-4132-9276-8f169f959435",
   "metadata": {},
   "outputs": [],
   "source": [
    "pd.set_option('display.float.format', lambda x: '%.5f' % x)"
   ]
  },
  {
   "cell_type": "code",
   "execution_count": 8,
   "id": "71368ed3-0ffc-4ba5-a4b6-3c739c2dddf3",
   "metadata": {},
   "outputs": [
    {
     "data": {
      "text/html": [
       "<div>\n",
       "<style scoped>\n",
       "    .dataframe tbody tr th:only-of-type {\n",
       "        vertical-align: middle;\n",
       "    }\n",
       "\n",
       "    .dataframe tbody tr th {\n",
       "        vertical-align: top;\n",
       "    }\n",
       "\n",
       "    .dataframe thead th {\n",
       "        text-align: right;\n",
       "    }\n",
       "</style>\n",
       "<table border=\"1\" class=\"dataframe\">\n",
       "  <thead>\n",
       "    <tr style=\"text-align: right;\">\n",
       "      <th></th>\n",
       "      <th>quote.USD.percent_change_1h</th>\n",
       "      <th>quote.USD.percent_change_24h</th>\n",
       "      <th>quote.USD.percent_change_7d</th>\n",
       "      <th>quote.USD.percent_change_30d</th>\n",
       "      <th>quote.USD.percent_change_60d</th>\n",
       "      <th>quote.USD.percent_change_90d</th>\n",
       "    </tr>\n",
       "    <tr>\n",
       "      <th>name</th>\n",
       "      <th></th>\n",
       "      <th></th>\n",
       "      <th></th>\n",
       "      <th></th>\n",
       "      <th></th>\n",
       "      <th></th>\n",
       "    </tr>\n",
       "  </thead>\n",
       "  <tbody>\n",
       "    <tr>\n",
       "      <th>Bitcoin</th>\n",
       "      <td>0.651863</td>\n",
       "      <td>-2.148477</td>\n",
       "      <td>-12.509507</td>\n",
       "      <td>-4.545004</td>\n",
       "      <td>38.559585</td>\n",
       "      <td>46.989923</td>\n",
       "    </tr>\n",
       "    <tr>\n",
       "      <th>Ethereum</th>\n",
       "      <td>2.106516</td>\n",
       "      <td>1.015964</td>\n",
       "      <td>-15.964422</td>\n",
       "      <td>-2.197921</td>\n",
       "      <td>33.473647</td>\n",
       "      <td>27.045312</td>\n",
       "    </tr>\n",
       "    <tr>\n",
       "      <th>Tether USDt</th>\n",
       "      <td>0.026799</td>\n",
       "      <td>-0.042384</td>\n",
       "      <td>-0.119603</td>\n",
       "      <td>-0.271920</td>\n",
       "      <td>-0.036781</td>\n",
       "      <td>-0.106769</td>\n",
       "    </tr>\n",
       "  </tbody>\n",
       "</table>\n",
       "</div>"
      ],
      "text/plain": [
       "             quote.USD.percent_change_1h  quote.USD.percent_change_24h  \\\n",
       "name                                                                     \n",
       "Bitcoin                         0.651863                     -2.148477   \n",
       "Ethereum                        2.106516                      1.015964   \n",
       "Tether USDt                     0.026799                     -0.042384   \n",
       "\n",
       "             quote.USD.percent_change_7d  quote.USD.percent_change_30d  \\\n",
       "name                                                                     \n",
       "Bitcoin                       -12.509507                     -4.545004   \n",
       "Ethereum                      -15.964422                     -2.197921   \n",
       "Tether USDt                    -0.119603                     -0.271920   \n",
       "\n",
       "             quote.USD.percent_change_60d  quote.USD.percent_change_90d  \n",
       "name                                                                     \n",
       "Bitcoin                         38.559585                     46.989923  \n",
       "Ethereum                        33.473647                     27.045312  \n",
       "Tether USDt                     -0.036781                     -0.106769  "
      ]
     },
     "execution_count": 8,
     "metadata": {},
     "output_type": "execute_result"
    }
   ],
   "source": [
    "df3 = df.groupby('name', sort = False)[['quote.USD.percent_change_1h','quote.USD.percent_change_24h','quote.USD.percent_change_7d','quote.USD.percent_change_30d','quote.USD.percent_change_60d','quote.USD.percent_change_90d']].mean()\n",
    "df3.head(3)"
   ]
  },
  {
   "cell_type": "code",
   "execution_count": 13,
   "id": "c56ae81f-605e-4c6b-8701-345b3294247a",
   "metadata": {},
   "outputs": [
    {
     "data": {
      "text/plain": [
       "name                                  \n",
       "Bitcoin   quote.USD.percent_change_1h      0.651863\n",
       "          quote.USD.percent_change_24h    -2.148477\n",
       "          quote.USD.percent_change_7d    -12.509507\n",
       "          quote.USD.percent_change_30d    -4.545004\n",
       "          quote.USD.percent_change_60d    38.559585\n",
       "          quote.USD.percent_change_90d    46.989923\n",
       "Ethereum  quote.USD.percent_change_1h      2.106516\n",
       "          quote.USD.percent_change_24h     1.015964\n",
       "          quote.USD.percent_change_7d    -15.964422\n",
       "          quote.USD.percent_change_30d    -2.197921\n",
       "dtype: float64"
      ]
     },
     "execution_count": 13,
     "metadata": {},
     "output_type": "execute_result"
    }
   ],
   "source": [
    "df4 = df3.stack()\n",
    "df4.head(10)"
   ]
  },
  {
   "cell_type": "code",
   "execution_count": 14,
   "id": "fbe66e14-7644-4f26-9562-6d39dde9e499",
   "metadata": {},
   "outputs": [
    {
     "data": {
      "text/plain": [
       "pandas.core.series.Series"
      ]
     },
     "execution_count": 14,
     "metadata": {},
     "output_type": "execute_result"
    }
   ],
   "source": [
    "type(df4)"
   ]
  },
  {
   "cell_type": "code",
   "execution_count": 16,
   "id": "0f44e7b8-395c-469a-befc-609db0c8dd3a",
   "metadata": {},
   "outputs": [],
   "source": [
    "df5 = df4.to_frame(name = 'values')"
   ]
  },
  {
   "cell_type": "code",
   "execution_count": 105,
   "id": "606262c6-ef65-45b3-bd68-25ef9d9dc56d",
   "metadata": {},
   "outputs": [
    {
     "data": {
      "text/plain": [
       "pandas.core.frame.DataFrame"
      ]
     },
     "execution_count": 105,
     "metadata": {},
     "output_type": "execute_result"
    }
   ],
   "source": [
    "type(df5)"
   ]
  },
  {
   "cell_type": "code",
   "execution_count": 18,
   "id": "074e6970-e54e-4e49-9742-49426dc25ed3",
   "metadata": {},
   "outputs": [
    {
     "data": {
      "text/html": [
       "<div>\n",
       "<style scoped>\n",
       "    .dataframe tbody tr th:only-of-type {\n",
       "        vertical-align: middle;\n",
       "    }\n",
       "\n",
       "    .dataframe tbody tr th {\n",
       "        vertical-align: top;\n",
       "    }\n",
       "\n",
       "    .dataframe thead th {\n",
       "        text-align: right;\n",
       "    }\n",
       "</style>\n",
       "<table border=\"1\" class=\"dataframe\">\n",
       "  <thead>\n",
       "    <tr style=\"text-align: right;\">\n",
       "      <th></th>\n",
       "      <th>name</th>\n",
       "      <th>level_1</th>\n",
       "      <th>values</th>\n",
       "    </tr>\n",
       "  </thead>\n",
       "  <tbody>\n",
       "    <tr>\n",
       "      <th>0</th>\n",
       "      <td>Bitcoin</td>\n",
       "      <td>quote.USD.percent_change_1h</td>\n",
       "      <td>0.651863</td>\n",
       "    </tr>\n",
       "    <tr>\n",
       "      <th>1</th>\n",
       "      <td>Bitcoin</td>\n",
       "      <td>quote.USD.percent_change_24h</td>\n",
       "      <td>-2.148477</td>\n",
       "    </tr>\n",
       "    <tr>\n",
       "      <th>2</th>\n",
       "      <td>Bitcoin</td>\n",
       "      <td>quote.USD.percent_change_7d</td>\n",
       "      <td>-12.509507</td>\n",
       "    </tr>\n",
       "    <tr>\n",
       "      <th>3</th>\n",
       "      <td>Bitcoin</td>\n",
       "      <td>quote.USD.percent_change_30d</td>\n",
       "      <td>-4.545004</td>\n",
       "    </tr>\n",
       "    <tr>\n",
       "      <th>4</th>\n",
       "      <td>Bitcoin</td>\n",
       "      <td>quote.USD.percent_change_60d</td>\n",
       "      <td>38.559585</td>\n",
       "    </tr>\n",
       "    <tr>\n",
       "      <th>...</th>\n",
       "      <td>...</td>\n",
       "      <td>...</td>\n",
       "      <td>...</td>\n",
       "    </tr>\n",
       "    <tr>\n",
       "      <th>85</th>\n",
       "      <td>Sui</td>\n",
       "      <td>quote.USD.percent_change_24h</td>\n",
       "      <td>-1.246567</td>\n",
       "    </tr>\n",
       "    <tr>\n",
       "      <th>86</th>\n",
       "      <td>Sui</td>\n",
       "      <td>quote.USD.percent_change_7d</td>\n",
       "      <td>-9.995265</td>\n",
       "    </tr>\n",
       "    <tr>\n",
       "      <th>87</th>\n",
       "      <td>Sui</td>\n",
       "      <td>quote.USD.percent_change_30d</td>\n",
       "      <td>23.516749</td>\n",
       "    </tr>\n",
       "    <tr>\n",
       "      <th>88</th>\n",
       "      <td>Sui</td>\n",
       "      <td>quote.USD.percent_change_60d</td>\n",
       "      <td>119.331231</td>\n",
       "    </tr>\n",
       "    <tr>\n",
       "      <th>89</th>\n",
       "      <td>Sui</td>\n",
       "      <td>quote.USD.percent_change_90d</td>\n",
       "      <td>163.569184</td>\n",
       "    </tr>\n",
       "  </tbody>\n",
       "</table>\n",
       "<p>90 rows × 3 columns</p>\n",
       "</div>"
      ],
      "text/plain": [
       "       name                       level_1      values\n",
       "0   Bitcoin   quote.USD.percent_change_1h    0.651863\n",
       "1   Bitcoin  quote.USD.percent_change_24h   -2.148477\n",
       "2   Bitcoin   quote.USD.percent_change_7d  -12.509507\n",
       "3   Bitcoin  quote.USD.percent_change_30d   -4.545004\n",
       "4   Bitcoin  quote.USD.percent_change_60d   38.559585\n",
       "..      ...                           ...         ...\n",
       "85      Sui  quote.USD.percent_change_24h   -1.246567\n",
       "86      Sui   quote.USD.percent_change_7d   -9.995265\n",
       "87      Sui  quote.USD.percent_change_30d   23.516749\n",
       "88      Sui  quote.USD.percent_change_60d  119.331231\n",
       "89      Sui  quote.USD.percent_change_90d  163.569184\n",
       "\n",
       "[90 rows x 3 columns]"
      ]
     },
     "execution_count": 18,
     "metadata": {},
     "output_type": "execute_result"
    }
   ],
   "source": [
    "df6 = df5.reset_index()\n",
    "df6"
   ]
  },
  {
   "cell_type": "code",
   "execution_count": 19,
   "id": "e3116307-2ee7-49e4-b381-ee962507377c",
   "metadata": {},
   "outputs": [],
   "source": [
    "df7 = df6.rename(columns = {'level_1':'percent_change'} )"
   ]
  },
  {
   "cell_type": "code",
   "execution_count": 20,
   "id": "2322a2f2-a7c4-4543-8fa0-9776ae42daf0",
   "metadata": {},
   "outputs": [],
   "source": [
    "df7['percent_change'] = df7['percent_change'].replace(['quote.USD.percent_change_1h','quote.USD.percent_change_24h','quote.USD.percent_change_7d','quote.USD.percent_change_30d','quote.USD.percent_change_60d','quote.USD.percent_change_90d'],['1h','24h','7d','30d','60d','90d'])"
   ]
  },
  {
   "cell_type": "code",
   "execution_count": 21,
   "id": "f7d99b19-f975-486e-8fe5-6bd6621da369",
   "metadata": {},
   "outputs": [],
   "source": [
    "import seaborn as sns\n",
    "import matplotlib.pyplot as plt"
   ]
  },
  {
   "cell_type": "code",
   "execution_count": 22,
   "id": "21bc90db-668b-4aa1-9c83-b7183fee113e",
   "metadata": {},
   "outputs": [
    {
     "data": {
      "text/plain": [
       "<seaborn.axisgrid.FacetGrid at 0x1977a6ae360>"
      ]
     },
     "execution_count": 22,
     "metadata": {},
     "output_type": "execute_result"
    },
    {
     "data": {
      "image/png": "[encoded data removed]",
      "text/plain": [
       "<Figure size 772.875x400 with 1 Axes>"
      ]
     },
     "metadata": {},
     "output_type": "display_data"
    }
   ],
   "source": [
    "sns.catplot(x = 'percent_change', y = 'values', hue = 'name', data = df7, kind = 'point', height = 4, aspect=1.6)\n",
    "#plt.yticks(range(-30, 30, 10))"
   ]
  },
  {
   "cell_type": "code",
   "execution_count": 23,
   "id": "2df70403-3996-46e3-b151-800e435e9eca",
   "metadata": {},
   "outputs": [
    {
     "data": {
      "text/html": [
       "<div>\n",
       "<style scoped>\n",
       "    .dataframe tbody tr th:only-of-type {\n",
       "        vertical-align: middle;\n",
       "    }\n",
       "\n",
       "    .dataframe tbody tr th {\n",
       "        vertical-align: top;\n",
       "    }\n",
       "\n",
       "    .dataframe thead th {\n",
       "        text-align: right;\n",
       "    }\n",
       "</style>\n",
       "<table border=\"1\" class=\"dataframe\">\n",
       "  <thead>\n",
       "    <tr style=\"text-align: right;\">\n",
       "      <th></th>\n",
       "      <th>name</th>\n",
       "      <th>quote.USD.price</th>\n",
       "      <th>timestamp</th>\n",
       "    </tr>\n",
       "  </thead>\n",
       "  <tbody>\n",
       "    <tr>\n",
       "      <th>0</th>\n",
       "      <td>Bitcoin</td>\n",
       "      <td>100659.640111</td>\n",
       "      <td>2024-12-19 22:09:13.722886</td>\n",
       "    </tr>\n",
       "    <tr>\n",
       "      <th>15</th>\n",
       "      <td>Bitcoin</td>\n",
       "      <td>101006.115340</td>\n",
       "      <td>2024-12-19 22:10:14.335875</td>\n",
       "    </tr>\n",
       "    <tr>\n",
       "      <th>30</th>\n",
       "      <td>Bitcoin</td>\n",
       "      <td>101026.885353</td>\n",
       "      <td>2024-12-19 22:11:14.911848</td>\n",
       "    </tr>\n",
       "    <tr>\n",
       "      <th>45</th>\n",
       "      <td>Bitcoin</td>\n",
       "      <td>101038.100146</td>\n",
       "      <td>2024-12-19 22:12:15.402870</td>\n",
       "    </tr>\n",
       "  </tbody>\n",
       "</table>\n",
       "</div>"
      ],
      "text/plain": [
       "       name  quote.USD.price                   timestamp\n",
       "0   Bitcoin    100659.640111  2024-12-19 22:09:13.722886\n",
       "15  Bitcoin    101006.115340  2024-12-19 22:10:14.335875\n",
       "30  Bitcoin    101026.885353  2024-12-19 22:11:14.911848\n",
       "45  Bitcoin    101038.100146  2024-12-19 22:12:15.402870"
      ]
     },
     "execution_count": 23,
     "metadata": {},
     "output_type": "execute_result"
    }
   ],
   "source": [
    "df10 = df45[['name','quote.USD.price','timestamp']]\n",
    "df10 = df10.query(\"name =='Bitcoin'\")\n",
    "df10"
   ]
  },
  {
   "cell_type": "code",
   "execution_count": 189,
   "id": "652e14bd-3339-45e8-913e-93cd1d5408ec",
   "metadata": {},
   "outputs": [],
   "source": [
    "#df10['timestamp'] = df10['timestamp'].apply(lambda x: x[11:19]) Just for checking fig"
   ]
  },
  {
   "cell_type": "code",
   "execution_count": 24,
   "id": "3b85df4e-e41c-407c-a9aa-5ce7b388aa5b",
   "metadata": {},
   "outputs": [
    {
     "data": {
      "image/png": "[encoded data removed]",
      "text/plain": [
       "<Figure size 1000x600 with 1 Axes>"
      ]
     },
     "metadata": {},
     "output_type": "display_data"
    }
   ],
   "source": [
    "sns.set_theme(style = 'darkgrid')\n",
    "plt.figure(figsize=(10, 6))\n",
    "sns.lineplot(x= 'timestamp', y = 'quote.USD.price',data=df10)\n",
    "plt.title(\"Price Over Time\")\n",
    "plt.show()"
   ]
  },
  {
   "cell_type": "code",
   "execution_count": null,
   "id": "f1408c98-97d9-4258-b45f-3b0d509ee35e",
   "metadata": {},
   "outputs": [],
   "source": []
  },
  {
   "cell_type": "code",
   "execution_count": null,
   "id": "2dc8c965-9d25-4e26-992e-8a67ea1abcfd",
   "metadata": {},
   "outputs": [],
   "source": []
  },
  {
   "cell_type": "code",
   "execution_count": null,
   "id": "a79bf6ca-1745-467c-9b6f-82e32bfaabf3",
   "metadata": {},
   "outputs": [],
   "source": []
  },
  {
   "cell_type": "code",
   "execution_count": null,
   "id": "945bee6b-f3ca-4e7d-9b4c-9e7a40eef509",
   "metadata": {},
   "outputs": [],
   "source": []
  },
  {
   "cell_type": "code",
   "execution_count": null,
   "id": "56db117e-ab63-4111-870a-d59a22b563a5",
   "metadata": {},
   "outputs": [],
   "source": []
  }
 ],
 "metadata": {
  "kernelspec": {
   "display_name": "Python 3 (ipykernel)",
   "language": "python",
   "name": "python3"
  },
  "language_info": {
   "codemirror_mode": {
    "name": "ipython",
    "version": 3
   },
   "file_extension": ".py",
   "mimetype": "text/x-python",
   "name": "python",
   "nbconvert_exporter": "python",
   "pygments_lexer": "ipython3",
   "version": "3.12.7"
  }
 },
 "nbformat": 4,
 "nbformat_minor": 5
}
