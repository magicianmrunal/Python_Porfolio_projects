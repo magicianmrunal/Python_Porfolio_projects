{
 "cells": [
  {
   "cell_type": "code",
   "execution_count": 19,
   "id": "2b5aeab9-b708-498a-8439-7146b1a1c24d",
   "metadata": {},
   "outputs": [
    {
     "name": "stdin",
     "output_type": "stream",
     "text": [
      "Enter your weight in Kg 0\n",
      "Enter your height in inches 1\n"
     ]
    },
    {
     "name": "stdout",
     "output_type": "stream",
     "text": [
      "Invalid entry!!! Try again\n"
     ]
    }
   ],
   "source": [
    "a = int(input('Enter your weight in Kg'))\n",
    "b = int(input('Enter your height in inches'))\n",
    "\n",
    "calc_bmi = (a) / ((b*0.0254)**2)\n",
    "if calc_bmi > 0:\n",
    "    if calc_bmi < 18.5:\n",
    "        print('BMI is -> ' , calc_bmi ,' | You are Underweight | Health risk is Minimal')\n",
    "    elif calc_bmi > 18.5 and calc_bmi < 24.9:\n",
    "        print('BMI is -> ' , calc_bmi ,' | You are Normal weight | Health risk is Minimal')\n",
    "    elif calc_bmi >= 25 and calc_bmi < 29.9:\n",
    "        print('BMI is -> ' , calc_bmi ,' | You are Overweight | Health risk is Increased')\n",
    "    elif calc_bmi >= 30 and calc_bmi < 34.9:\n",
    "        print('BMI is -> ' , calc_bmi ,' | You are Obease | Health risk is High')\n",
    "    elif calc_bmi >=35  and calc_bmi < 39.9:\n",
    "        print('BMI is -> ' , calc_bmi ,' | You are Severely Obease | Health risk is Very high')\n",
    "    else:\n",
    "        print('BMI is -> ' , calc_bmi ,' | You are Morbidly Obease | Health risk is Extremely high')\n",
    "else:\n",
    "    print('Invalid entry!!! Try again')\n"
   ]
  },
  {
   "cell_type": "code",
   "execution_count": 4,
   "id": "dbabb194-7310-4ca1-aa47-b407fd0a1ce1",
   "metadata": {},
   "outputs": [
    {
     "name": "stdout",
     "output_type": "stream",
     "text": [
      "10 hello\n"
     ]
    }
   ],
   "source": [
    "print (10, \"hello\")"
   ]
  },
  {
   "cell_type": "code",
   "execution_count": null,
   "id": "b3d0c5e8-73b9-489e-81c2-487e0603747d",
   "metadata": {},
   "outputs": [],
   "source": []
  },
  {
   "cell_type": "code",
   "execution_count": null,
   "id": "3616d737-df03-4953-b3ea-1fe015418efe",
   "metadata": {},
   "outputs": [],
   "source": []
  },
  {
   "cell_type": "code",
   "execution_count": null,
   "id": "ad4f5e67-84ad-4df1-8187-733c5c561ae8",
   "metadata": {},
   "outputs": [],
   "source": []
  },
  {
   "cell_type": "code",
   "execution_count": null,
   "id": "d1cfb794-6af1-445a-8195-fc6294af2bf5",
   "metadata": {},
   "outputs": [],
   "source": []
  },
  {
   "cell_type": "code",
   "execution_count": null,
   "id": "31a85874-7e34-4fb0-94a8-8033fb92488a",
   "metadata": {},
   "outputs": [],
   "source": []
  },
  {
   "cell_type": "code",
   "execution_count": null,
   "id": "acd208a3-3664-4369-afd8-15f63ec38a1c",
   "metadata": {},
   "outputs": [],
   "source": []
  },
  {
   "cell_type": "code",
   "execution_count": null,
   "id": "be110620-0c03-4ec7-b43e-63b0306e0b89",
   "metadata": {},
   "outputs": [],
   "source": []
  },
  {
   "cell_type": "code",
   "execution_count": null,
   "id": "56d6ae41-5408-4457-8e46-71f490441673",
   "metadata": {},
   "outputs": [],
   "source": []
  },
  {
   "cell_type": "code",
   "execution_count": null,
   "id": "50fcb2f4-ff97-4949-a8de-fc06da2ff222",
   "metadata": {},
   "outputs": [],
   "source": []
  },
  {
   "cell_type": "code",
   "execution_count": null,
   "id": "9d8d91ab-ca62-4a06-a591-3ddd2d1a498b",
   "metadata": {},
   "outputs": [],
   "source": []
  },
  {
   "cell_type": "code",
   "execution_count": null,
   "id": "9e4da899-fa49-429b-8ad5-350b8ea2a67c",
   "metadata": {},
   "outputs": [],
   "source": []
  },
  {
   "cell_type": "code",
   "execution_count": null,
   "id": "fb517b7f-4c3e-46ba-a4b7-db9f84f5957b",
   "metadata": {},
   "outputs": [],
   "source": []
  },
  {
   "cell_type": "code",
   "execution_count": null,
   "id": "8297abed-2cd6-4d90-a2ba-b7884cb369e3",
   "metadata": {},
   "outputs": [],
   "source": []
  },
  {
   "cell_type": "code",
   "execution_count": null,
   "id": "296d66a8-65eb-4f5f-855c-6b094fb04b96",
   "metadata": {},
   "outputs": [],
   "source": []
  }
 ],
 "metadata": {
  "kernelspec": {
   "display_name": "Python 3 (ipykernel)",
   "language": "python",
   "name": "python3"
  },
  "language_info": {
   "codemirror_mode": {
    "name": "ipython",
    "version": 3
   },
   "file_extension": ".py",
   "mimetype": "text/x-python",
   "name": "python",
   "nbconvert_exporter": "python",
   "pygments_lexer": "ipython3",
   "version": "3.12.7"
  }
 },
 "nbformat": 4,
 "nbformat_minor": 5
}
