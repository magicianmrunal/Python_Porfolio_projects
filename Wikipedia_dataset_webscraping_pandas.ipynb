{
 "cells": [
  {
   "cell_type": "code",
   "execution_count": 1,
   "id": "de50e1ec-8a53-46f0-8a6f-95e25090a6d3",
   "metadata": {},
   "outputs": [],
   "source": [
    "from bs4 import BeautifulSoup\n",
    "import requests"
   ]
  },
  {
   "cell_type": "code",
   "execution_count": 2,
   "id": "9e14c05c-024d-48cc-8650-12fe9e20e397",
   "metadata": {},
   "outputs": [
    {
     "name": "stdout",
     "output_type": "stream",
     "text": [
      "<Response [200]>\n"
     ]
    }
   ],
   "source": [
    "url = 'https://en.wikipedia.org/wiki/List_of_largest_companies_in_India'\n",
    "page = requests.get(url)\n",
    "print(page)\n",
    "soup = BeautifulSoup(page.text,'html')"
   ]
  },
  {
   "cell_type": "code",
   "execution_count": 15,
   "id": "ca059efc-710d-4c98-bdc5-f69f30d311db",
   "metadata": {},
   "outputs": [],
   "source": [
    "table = soup.find('table')"
   ]
  },
  {
   "cell_type": "code",
   "execution_count": 16,
   "id": "de6ac4e1-74aa-4592-acc7-dde7bd915c00",
   "metadata": {},
   "outputs": [
    {
     "name": "stdout",
     "output_type": "stream",
     "text": [
      "[<th align=\"center\">Rank\n",
      "</th>, <th align=\"center\">Forbes<br/> 2000 rank\n",
      "</th>, <th align=\"center\">Name\n",
      "</th>, <th align=\"center\">Headquarters\n",
      "</th>, <th align=\"center\">Revenue<br/>(billions US$)\n",
      "</th>, <th align=\"center\">Profit<br/>(billions US$)\n",
      "</th>, <th align=\"center\">Assets<br/>(billions US$)\n",
      "</th>, <th align=\"center\">Value<br/>(billions US$)\n",
      "</th>, <th align=\"center\">Industry\n",
      "</th>]\n"
     ]
    }
   ],
   "source": [
    "world_titles = table.find_all('th')\n",
    "print(world_titles)"
   ]
  },
  {
   "cell_type": "code",
   "execution_count": 18,
   "id": "8f4e687f-befc-4117-bc37-19b25d007846",
   "metadata": {},
   "outputs": [
    {
     "data": {
      "text/plain": [
       "['Rank',\n",
       " 'Forbes 2000 rank',\n",
       " 'Name',\n",
       " 'Headquarters',\n",
       " 'Revenue(billions US$)',\n",
       " 'Profit(billions US$)',\n",
       " 'Assets(billions US$)',\n",
       " 'Value(billions US$)',\n",
       " 'Industry']"
      ]
     },
     "execution_count": 18,
     "metadata": {},
     "output_type": "execute_result"
    }
   ],
   "source": [
    "world_table_titles = [i.text.strip() for i in world_titles]\n",
    "world_table_titles"
   ]
  },
  {
   "cell_type": "code",
   "execution_count": 19,
   "id": "a6ab9961-5d2a-4b14-a5c3-9882d5b5720c",
   "metadata": {},
   "outputs": [
    {
     "name": "stdout",
     "output_type": "stream",
     "text": [
      "['Rank', 'Forbes 2000 rank', 'Name', 'Headquarters', 'Revenue(billions US$)', 'Profit(billions US$)', 'Assets(billions US$)', 'Value(billions US$)', 'Industry']\n"
     ]
    }
   ],
   "source": [
    "print(world_table_titles)"
   ]
  },
  {
   "cell_type": "code",
   "execution_count": 20,
   "id": "761749fb-5e39-4f7e-81fc-fc3e0d2b24d1",
   "metadata": {},
   "outputs": [],
   "source": [
    "import pandas as pd"
   ]
  },
  {
   "cell_type": "code",
   "execution_count": 26,
   "id": "10c49fb8-0437-470f-9849-7905b2a08f2d",
   "metadata": {},
   "outputs": [
    {
     "data": {
      "text/html": [
       "<div>\n",
       "<style scoped>\n",
       "    .dataframe tbody tr th:only-of-type {\n",
       "        vertical-align: middle;\n",
       "    }\n",
       "\n",
       "    .dataframe tbody tr th {\n",
       "        vertical-align: top;\n",
       "    }\n",
       "\n",
       "    .dataframe thead th {\n",
       "        text-align: right;\n",
       "    }\n",
       "</style>\n",
       "<table border=\"1\" class=\"dataframe\">\n",
       "  <thead>\n",
       "    <tr style=\"text-align: right;\">\n",
       "      <th></th>\n",
       "      <th>Rank</th>\n",
       "      <th>Forbes 2000 rank</th>\n",
       "      <th>Name</th>\n",
       "      <th>Headquarters</th>\n",
       "      <th>Revenue(billions US$)</th>\n",
       "      <th>Profit(billions US$)</th>\n",
       "      <th>Assets(billions US$)</th>\n",
       "      <th>Value(billions US$)</th>\n",
       "      <th>Industry</th>\n",
       "    </tr>\n",
       "  </thead>\n",
       "  <tbody>\n",
       "  </tbody>\n",
       "</table>\n",
       "</div>"
      ],
      "text/plain": [
       "Empty DataFrame\n",
       "Columns: [Rank, Forbes 2000 rank, Name, Headquarters, Revenue(billions US$), Profit(billions US$), Assets(billions US$), Value(billions US$), Industry]\n",
       "Index: []"
      ]
     },
     "execution_count": 26,
     "metadata": {},
     "output_type": "execute_result"
    }
   ],
   "source": [
    "df = pd.DataFrame(columns = world_table_titles)\n",
    "df"
   ]
  },
  {
   "cell_type": "code",
   "execution_count": 27,
   "id": "e8e9a92b-5ad6-4e68-b043-2f4a3d7a3c27",
   "metadata": {},
   "outputs": [],
   "source": [
    "column_data = table.find_all('tr')"
   ]
  },
  {
   "cell_type": "code",
   "execution_count": 28,
   "id": "33729198-e4ff-44b4-b4a8-eb7e5e61604e",
   "metadata": {},
   "outputs": [],
   "source": [
    "for j in column_data[1:]:\n",
    "    row_data=j.find_all('td')\n",
    "    individual_row_data = [data.text.strip() for data in row_data]\n",
    "    length = len(df)\n",
    "    df.loc[length] = individual_row_data"
   ]
  },
  {
   "cell_type": "code",
   "execution_count": 29,
   "id": "5d2ce476-020f-4263-9c4b-f605e10a75de",
   "metadata": {},
   "outputs": [
    {
     "data": {
      "text/html": [
       "<div>\n",
       "<style scoped>\n",
       "    .dataframe tbody tr th:only-of-type {\n",
       "        vertical-align: middle;\n",
       "    }\n",
       "\n",
       "    .dataframe tbody tr th {\n",
       "        vertical-align: top;\n",
       "    }\n",
       "\n",
       "    .dataframe thead th {\n",
       "        text-align: right;\n",
       "    }\n",
       "</style>\n",
       "<table border=\"1\" class=\"dataframe\">\n",
       "  <thead>\n",
       "    <tr style=\"text-align: right;\">\n",
       "      <th></th>\n",
       "      <th>Rank</th>\n",
       "      <th>Forbes 2000 rank</th>\n",
       "      <th>Name</th>\n",
       "      <th>Headquarters</th>\n",
       "      <th>Revenue(billions US$)</th>\n",
       "      <th>Profit(billions US$)</th>\n",
       "      <th>Assets(billions US$)</th>\n",
       "      <th>Value(billions US$)</th>\n",
       "      <th>Industry</th>\n",
       "    </tr>\n",
       "  </thead>\n",
       "  <tbody>\n",
       "    <tr>\n",
       "      <th>0</th>\n",
       "      <td>1</td>\n",
       "      <td>49</td>\n",
       "      <td>Reliance Industries Limited</td>\n",
       "      <td>Mumbai</td>\n",
       "      <td>108.8</td>\n",
       "      <td>8.4</td>\n",
       "      <td>210.5</td>\n",
       "      <td>233.1</td>\n",
       "      <td>Conglomerate</td>\n",
       "    </tr>\n",
       "    <tr>\n",
       "      <th>1</th>\n",
       "      <td>2</td>\n",
       "      <td>55</td>\n",
       "      <td>State Bank of India</td>\n",
       "      <td>Mumbai</td>\n",
       "      <td>71.8</td>\n",
       "      <td>8.1</td>\n",
       "      <td>807.4</td>\n",
       "      <td>87.6</td>\n",
       "      <td>Banking</td>\n",
       "    </tr>\n",
       "    <tr>\n",
       "      <th>2</th>\n",
       "      <td>3</td>\n",
       "      <td>65</td>\n",
       "      <td>HDFC Bank</td>\n",
       "      <td>Mumbai</td>\n",
       "      <td>49.3</td>\n",
       "      <td>7.7</td>\n",
       "      <td>483.2</td>\n",
       "      <td>133.6</td>\n",
       "      <td>Banking</td>\n",
       "    </tr>\n",
       "    <tr>\n",
       "      <th>3</th>\n",
       "      <td>4</td>\n",
       "      <td>70</td>\n",
       "      <td>Life Insurance Corporation</td>\n",
       "      <td>New Delhi</td>\n",
       "      <td>98.0</td>\n",
       "      <td>4.9</td>\n",
       "      <td>561.4</td>\n",
       "      <td>73.6</td>\n",
       "      <td>Insurance</td>\n",
       "    </tr>\n",
       "    <tr>\n",
       "      <th>4</th>\n",
       "      <td>5</td>\n",
       "      <td>142</td>\n",
       "      <td>ICICI Bank</td>\n",
       "      <td>Mumbai</td>\n",
       "      <td>28.5</td>\n",
       "      <td>5.3</td>\n",
       "      <td>283.5</td>\n",
       "      <td>95.3</td>\n",
       "      <td>Banking</td>\n",
       "    </tr>\n",
       "    <tr>\n",
       "      <th>...</th>\n",
       "      <td>...</td>\n",
       "      <td>...</td>\n",
       "      <td>...</td>\n",
       "      <td>...</td>\n",
       "      <td>...</td>\n",
       "      <td>...</td>\n",
       "      <td>...</td>\n",
       "      <td>...</td>\n",
       "      <td>...</td>\n",
       "    </tr>\n",
       "    <tr>\n",
       "      <th>66</th>\n",
       "      <td>65</td>\n",
       "      <td>1895</td>\n",
       "      <td>Dr. Reddy's Laboratories</td>\n",
       "      <td>Hyderabad</td>\n",
       "      <td>3.4</td>\n",
       "      <td>0.7</td>\n",
       "      <td>4.6</td>\n",
       "      <td>11.6</td>\n",
       "      <td>Pharmaceuticals</td>\n",
       "    </tr>\n",
       "    <tr>\n",
       "      <th>67</th>\n",
       "      <td>66</td>\n",
       "      <td>1908</td>\n",
       "      <td>Varun Beverages</td>\n",
       "      <td>Gurgaon</td>\n",
       "      <td>2.0</td>\n",
       "      <td>0.3</td>\n",
       "      <td>1.8</td>\n",
       "      <td>23.6</td>\n",
       "      <td>Beverages</td>\n",
       "    </tr>\n",
       "    <tr>\n",
       "      <th>68</th>\n",
       "      <td>67</td>\n",
       "      <td>1949</td>\n",
       "      <td>CIFCL</td>\n",
       "      <td>Chennai</td>\n",
       "      <td>2.3</td>\n",
       "      <td>0.4</td>\n",
       "      <td>18.8</td>\n",
       "      <td>13.0</td>\n",
       "      <td>Financials</td>\n",
       "    </tr>\n",
       "    <tr>\n",
       "      <th>69</th>\n",
       "      <td>68</td>\n",
       "      <td>1957</td>\n",
       "      <td>NMDC</td>\n",
       "      <td>Hyderabad</td>\n",
       "      <td>2.5</td>\n",
       "      <td>0.8</td>\n",
       "      <td>3.9</td>\n",
       "      <td>9.7</td>\n",
       "      <td>Mining</td>\n",
       "    </tr>\n",
       "    <tr>\n",
       "      <th>70</th>\n",
       "      <td>69</td>\n",
       "      <td>1980</td>\n",
       "      <td>ABB India</td>\n",
       "      <td>Bangalore</td>\n",
       "      <td>1.3</td>\n",
       "      <td>0.2</td>\n",
       "      <td>1.3</td>\n",
       "      <td>21.3</td>\n",
       "      <td>Capital goods</td>\n",
       "    </tr>\n",
       "  </tbody>\n",
       "</table>\n",
       "<p>71 rows × 9 columns</p>\n",
       "</div>"
      ],
      "text/plain": [
       "   Rank Forbes 2000 rank                         Name Headquarters  \\\n",
       "0     1               49  Reliance Industries Limited       Mumbai   \n",
       "1     2               55          State Bank of India       Mumbai   \n",
       "2     3               65                    HDFC Bank       Mumbai   \n",
       "3     4               70   Life Insurance Corporation    New Delhi   \n",
       "4     5              142                   ICICI Bank       Mumbai   \n",
       "..  ...              ...                          ...          ...   \n",
       "66   65             1895     Dr. Reddy's Laboratories    Hyderabad   \n",
       "67   66             1908              Varun Beverages      Gurgaon   \n",
       "68   67             1949                        CIFCL      Chennai   \n",
       "69   68             1957                         NMDC    Hyderabad   \n",
       "70   69             1980                    ABB India    Bangalore   \n",
       "\n",
       "   Revenue(billions US$) Profit(billions US$) Assets(billions US$)  \\\n",
       "0                  108.8                  8.4                210.5   \n",
       "1                   71.8                  8.1                807.4   \n",
       "2                   49.3                  7.7                483.2   \n",
       "3                   98.0                  4.9                561.4   \n",
       "4                   28.5                  5.3                283.5   \n",
       "..                   ...                  ...                  ...   \n",
       "66                   3.4                  0.7                  4.6   \n",
       "67                   2.0                  0.3                  1.8   \n",
       "68                   2.3                  0.4                 18.8   \n",
       "69                   2.5                  0.8                  3.9   \n",
       "70                   1.3                  0.2                  1.3   \n",
       "\n",
       "   Value(billions US$)         Industry  \n",
       "0                233.1     Conglomerate  \n",
       "1                 87.6          Banking  \n",
       "2                133.6          Banking  \n",
       "3                 73.6        Insurance  \n",
       "4                 95.3          Banking  \n",
       "..                 ...              ...  \n",
       "66                11.6  Pharmaceuticals  \n",
       "67                23.6        Beverages  \n",
       "68                13.0       Financials  \n",
       "69                 9.7           Mining  \n",
       "70                21.3    Capital goods  \n",
       "\n",
       "[71 rows x 9 columns]"
      ]
     },
     "execution_count": 29,
     "metadata": {},
     "output_type": "execute_result"
    }
   ],
   "source": [
    "df"
   ]
  },
  {
   "cell_type": "code",
   "execution_count": 30,
   "id": "d3b0f5e6-2eb3-4180-992e-fef410f500c0",
   "metadata": {},
   "outputs": [],
   "source": [
    "df.to_excel(r'C:\\Users\\Hp\\Documents\\Python\\companies.xlsx',index = False)"
   ]
  },
  {
   "cell_type": "code",
   "execution_count": 31,
   "id": "d011538a-bfcd-463f-a22c-55e38b298e36",
   "metadata": {},
   "outputs": [
    {
     "data": {
      "text/html": [
       "<div>\n",
       "<style scoped>\n",
       "    .dataframe tbody tr th:only-of-type {\n",
       "        vertical-align: middle;\n",
       "    }\n",
       "\n",
       "    .dataframe tbody tr th {\n",
       "        vertical-align: top;\n",
       "    }\n",
       "\n",
       "    .dataframe thead th {\n",
       "        text-align: right;\n",
       "    }\n",
       "</style>\n",
       "<table border=\"1\" class=\"dataframe\">\n",
       "  <thead>\n",
       "    <tr style=\"text-align: right;\">\n",
       "      <th></th>\n",
       "      <th>Rank</th>\n",
       "      <th>Forbes 2000 rank</th>\n",
       "      <th>Name</th>\n",
       "      <th>Headquarters</th>\n",
       "      <th>Revenue(billions US$)</th>\n",
       "      <th>Profit(billions US$)</th>\n",
       "      <th>Assets(billions US$)</th>\n",
       "      <th>Value(billions US$)</th>\n",
       "      <th>Industry</th>\n",
       "    </tr>\n",
       "  </thead>\n",
       "  <tbody>\n",
       "    <tr>\n",
       "      <th>0</th>\n",
       "      <td>1</td>\n",
       "      <td>49</td>\n",
       "      <td>Reliance Industries Limited</td>\n",
       "      <td>Mumbai</td>\n",
       "      <td>108.8</td>\n",
       "      <td>8.4</td>\n",
       "      <td>210.5</td>\n",
       "      <td>233.1</td>\n",
       "      <td>Conglomerate</td>\n",
       "    </tr>\n",
       "    <tr>\n",
       "      <th>1</th>\n",
       "      <td>2</td>\n",
       "      <td>55</td>\n",
       "      <td>State Bank of India</td>\n",
       "      <td>Mumbai</td>\n",
       "      <td>71.8</td>\n",
       "      <td>8.1</td>\n",
       "      <td>807.4</td>\n",
       "      <td>87.6</td>\n",
       "      <td>Banking</td>\n",
       "    </tr>\n",
       "  </tbody>\n",
       "</table>\n",
       "</div>"
      ],
      "text/plain": [
       "  Rank Forbes 2000 rank                         Name Headquarters  \\\n",
       "0    1               49  Reliance Industries Limited       Mumbai   \n",
       "1    2               55          State Bank of India       Mumbai   \n",
       "\n",
       "  Revenue(billions US$) Profit(billions US$) Assets(billions US$)  \\\n",
       "0                 108.8                  8.4                210.5   \n",
       "1                  71.8                  8.1                807.4   \n",
       "\n",
       "  Value(billions US$)      Industry  \n",
       "0               233.1  Conglomerate  \n",
       "1                87.6       Banking  "
      ]
     },
     "execution_count": 31,
     "metadata": {},
     "output_type": "execute_result"
    }
   ],
   "source": [
    "df.head(2)"
   ]
  },
  {
   "cell_type": "code",
   "execution_count": 32,
   "id": "cbfaa4f7-d7cb-4079-9ce9-731b803b38f9",
   "metadata": {},
   "outputs": [
    {
     "data": {
      "text/html": [
       "<div>\n",
       "<style scoped>\n",
       "    .dataframe tbody tr th:only-of-type {\n",
       "        vertical-align: middle;\n",
       "    }\n",
       "\n",
       "    .dataframe tbody tr th {\n",
       "        vertical-align: top;\n",
       "    }\n",
       "\n",
       "    .dataframe thead th {\n",
       "        text-align: right;\n",
       "    }\n",
       "</style>\n",
       "<table border=\"1\" class=\"dataframe\">\n",
       "  <thead>\n",
       "    <tr style=\"text-align: right;\">\n",
       "      <th></th>\n",
       "      <th>Rank</th>\n",
       "      <th>Forbes 2000 rank</th>\n",
       "      <th>Name</th>\n",
       "      <th>Headquarters</th>\n",
       "      <th>Revenue(billions US$)</th>\n",
       "      <th>Profit(billions US$)</th>\n",
       "      <th>Assets(billions US$)</th>\n",
       "      <th>Value(billions US$)</th>\n",
       "      <th>Industry</th>\n",
       "    </tr>\n",
       "  </thead>\n",
       "  <tbody>\n",
       "    <tr>\n",
       "      <th>69</th>\n",
       "      <td>68</td>\n",
       "      <td>1957</td>\n",
       "      <td>NMDC</td>\n",
       "      <td>Hyderabad</td>\n",
       "      <td>2.5</td>\n",
       "      <td>0.8</td>\n",
       "      <td>3.9</td>\n",
       "      <td>9.7</td>\n",
       "      <td>Mining</td>\n",
       "    </tr>\n",
       "    <tr>\n",
       "      <th>70</th>\n",
       "      <td>69</td>\n",
       "      <td>1980</td>\n",
       "      <td>ABB India</td>\n",
       "      <td>Bangalore</td>\n",
       "      <td>1.3</td>\n",
       "      <td>0.2</td>\n",
       "      <td>1.3</td>\n",
       "      <td>21.3</td>\n",
       "      <td>Capital goods</td>\n",
       "    </tr>\n",
       "  </tbody>\n",
       "</table>\n",
       "</div>"
      ],
      "text/plain": [
       "   Rank Forbes 2000 rank       Name Headquarters Revenue(billions US$)  \\\n",
       "69   68             1957       NMDC    Hyderabad                   2.5   \n",
       "70   69             1980  ABB India    Bangalore                   1.3   \n",
       "\n",
       "   Profit(billions US$) Assets(billions US$) Value(billions US$)  \\\n",
       "69                  0.8                  3.9                 9.7   \n",
       "70                  0.2                  1.3                21.3   \n",
       "\n",
       "         Industry  \n",
       "69         Mining  \n",
       "70  Capital goods  "
      ]
     },
     "execution_count": 32,
     "metadata": {},
     "output_type": "execute_result"
    }
   ],
   "source": [
    "df.tail(2)"
   ]
  },
  {
   "cell_type": "code",
   "execution_count": null,
   "id": "857df843-7892-4989-b5da-3bf563e8fe9e",
   "metadata": {},
   "outputs": [],
   "source": []
  },
  {
   "cell_type": "code",
   "execution_count": null,
   "id": "d2224c3c-45af-4d43-8efb-0b9fc6ed6330",
   "metadata": {},
   "outputs": [],
   "source": []
  },
  {
   "cell_type": "code",
   "execution_count": null,
   "id": "9cb49a7b-2983-4584-b9ee-91c471944c85",
   "metadata": {},
   "outputs": [],
   "source": []
  },
  {
   "cell_type": "code",
   "execution_count": null,
   "id": "48eaac06-75f9-452f-b7c4-eb10a64b8db3",
   "metadata": {},
   "outputs": [],
   "source": []
  },
  {
   "cell_type": "code",
   "execution_count": null,
   "id": "c72abe13-bac9-4f06-8f0b-c66566c37ff9",
   "metadata": {},
   "outputs": [],
   "source": []
  },
  {
   "cell_type": "code",
   "execution_count": null,
   "id": "0bf24514-356e-467d-914d-f025fd1c98b6",
   "metadata": {},
   "outputs": [],
   "source": []
  },
  {
   "cell_type": "code",
   "execution_count": null,
   "id": "aeb9b77b-068f-4e3d-9d72-13a131b73327",
   "metadata": {},
   "outputs": [],
   "source": []
  }
 ],
 "metadata": {
  "kernelspec": {
   "display_name": "Python 3 (ipykernel)",
   "language": "python",
   "name": "python3"
  },
  "language_info": {
   "codemirror_mode": {
    "name": "ipython",
    "version": 3
   },
   "file_extension": ".py",
   "mimetype": "text/x-python",
   "name": "python",
   "nbconvert_exporter": "python",
   "pygments_lexer": "ipython3",
   "version": "3.12.7"
  }
 },
 "nbformat": 4,
 "nbformat_minor": 5
}
